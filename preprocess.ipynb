{
 "cells": [
  {
   "cell_type": "code",
   "execution_count": 1,
   "id": "ef2b1c38",
   "metadata": {
    "_cell_guid": "b1076dfc-b9ad-4769-8c92-a6c4dae69d19",
    "_uuid": "8f2839f25d086af736a60e9eeb907d3b93b6e0e5",
    "execution": {
     "iopub.execute_input": "2024-01-07T07:13:20.583838Z",
     "iopub.status.busy": "2024-01-07T07:13:20.583420Z",
     "iopub.status.idle": "2024-01-07T07:13:21.033734Z",
     "shell.execute_reply": "2024-01-07T07:13:21.032270Z"
    },
    "papermill": {
     "duration": 0.462712,
     "end_time": "2024-01-07T07:13:21.036384",
     "exception": false,
     "start_time": "2024-01-07T07:13:20.573672",
     "status": "completed"
    },
    "tags": []
   },
   "outputs": [
    {
     "name": "stdout",
     "output_type": "stream",
     "text": [
      "/kaggle/input/brindo/Tweets_Indonesia.csv\n",
      "/kaggle/input/brindo/Tweets_Brazil.csv\n",
      "/kaggle/input/abbrevsskk/Abbreviations.txt\n"
     ]
    }
   ],
   "source": [
    "# This Python 3 environment comes with many helpful analytics libraries installed\n",
    "# It is defined by the kaggle/python Docker image: https://github.com/kaggle/docker-python\n",
    "# For example, here's several helpful packages to load\n",
    "\n",
    "import numpy as np # linear algebra\n",
    "import pandas as pd # data processing, CSV file I/O (e.g. pd.read_csv)\n",
    "\n",
    "# Input data files are available in the read-only \"../input/\" directory\n",
    "# For example, running this (by clicking run or pressing Shift+Enter) will list all files under the input directory\n",
    "\n",
    "import os\n",
    "for dirname, _, filenames in os.walk('/kaggle/input'):\n",
    "    for filename in filenames:\n",
    "        print(os.path.join(dirname, filename))\n",
    "\n",
    "# You can write up to 20GB to the current directory (/kaggle/working/) that gets preserved as output when you create a version using \"Save & Run All\" \n",
    "# You can also write temporary files to /kaggle/temp/, but they won't be saved outside of the current session"
   ]
  },
  {
   "cell_type": "code",
   "execution_count": 2,
   "id": "25ffee0c",
   "metadata": {
    "execution": {
     "iopub.execute_input": "2024-01-07T07:13:21.054549Z",
     "iopub.status.busy": "2024-01-07T07:13:21.054016Z",
     "iopub.status.idle": "2024-01-07T07:13:36.755711Z",
     "shell.execute_reply": "2024-01-07T07:13:36.754504Z"
    },
    "papermill": {
     "duration": 15.71408,
     "end_time": "2024-01-07T07:13:36.758838",
     "exception": false,
     "start_time": "2024-01-07T07:13:21.044758",
     "status": "completed"
    },
    "tags": []
   },
   "outputs": [
    {
     "name": "stdout",
     "output_type": "stream",
     "text": [
      "Collecting gdown\r\n",
      "  Downloading gdown-4.7.1-py3-none-any.whl (15 kB)\r\n",
      "Requirement already satisfied: filelock in /opt/conda/lib/python3.10/site-packages (from gdown) (3.12.2)\r\n",
      "Requirement already satisfied: requests[socks] in /opt/conda/lib/python3.10/site-packages (from gdown) (2.31.0)\r\n",
      "Requirement already satisfied: six in /opt/conda/lib/python3.10/site-packages (from gdown) (1.16.0)\r\n",
      "Requirement already satisfied: tqdm in /opt/conda/lib/python3.10/site-packages (from gdown) (4.66.1)\r\n",
      "Requirement already satisfied: beautifulsoup4 in /opt/conda/lib/python3.10/site-packages (from gdown) (4.12.2)\r\n",
      "Requirement already satisfied: soupsieve>1.2 in /opt/conda/lib/python3.10/site-packages (from beautifulsoup4->gdown) (2.3.2.post1)\r\n",
      "Requirement already satisfied: charset-normalizer<4,>=2 in /opt/conda/lib/python3.10/site-packages (from requests[socks]->gdown) (3.2.0)\r\n",
      "Requirement already satisfied: idna<4,>=2.5 in /opt/conda/lib/python3.10/site-packages (from requests[socks]->gdown) (3.4)\r\n",
      "Requirement already satisfied: urllib3<3,>=1.21.1 in /opt/conda/lib/python3.10/site-packages (from requests[socks]->gdown) (1.26.15)\r\n",
      "Requirement already satisfied: certifi>=2017.4.17 in /opt/conda/lib/python3.10/site-packages (from requests[socks]->gdown) (2023.11.17)\r\n",
      "Requirement already satisfied: PySocks!=1.5.7,>=1.5.6 in /opt/conda/lib/python3.10/site-packages (from requests[socks]->gdown) (1.7.1)\r\n",
      "Installing collected packages: gdown\r\n",
      "Successfully installed gdown-4.7.1\r\n"
     ]
    }
   ],
   "source": [
    "!pip install gdown"
   ]
  },
  {
   "cell_type": "code",
   "execution_count": 3,
   "id": "915585fe",
   "metadata": {
    "execution": {
     "iopub.execute_input": "2024-01-07T07:13:36.778127Z",
     "iopub.status.busy": "2024-01-07T07:13:36.777676Z",
     "iopub.status.idle": "2024-01-07T07:13:36.782526Z",
     "shell.execute_reply": "2024-01-07T07:13:36.781460Z"
    },
    "papermill": {
     "duration": 0.017363,
     "end_time": "2024-01-07T07:13:36.784789",
     "exception": false,
     "start_time": "2024-01-07T07:13:36.767426",
     "status": "completed"
    },
    "tags": []
   },
   "outputs": [],
   "source": [
    "# !gdown 1HWihiRRaesJjgeTIJewKLig57e3JXlJx"
   ]
  },
  {
   "cell_type": "code",
   "execution_count": 4,
   "id": "ba2ac825",
   "metadata": {
    "execution": {
     "iopub.execute_input": "2024-01-07T07:13:36.805911Z",
     "iopub.status.busy": "2024-01-07T07:13:36.805479Z",
     "iopub.status.idle": "2024-01-07T07:13:36.809926Z",
     "shell.execute_reply": "2024-01-07T07:13:36.808817Z"
    },
    "papermill": {
     "duration": 0.018684,
     "end_time": "2024-01-07T07:13:36.812251",
     "exception": false,
     "start_time": "2024-01-07T07:13:36.793567",
     "status": "completed"
    },
    "tags": []
   },
   "outputs": [],
   "source": [
    "# df_japan = pd.read_csv(\"/kaggle/working/Tweets_Japan.csv\")"
   ]
  },
  {
   "cell_type": "code",
   "execution_count": 5,
   "id": "926ac6fd",
   "metadata": {
    "execution": {
     "iopub.execute_input": "2024-01-07T07:13:36.831425Z",
     "iopub.status.busy": "2024-01-07T07:13:36.831018Z",
     "iopub.status.idle": "2024-01-07T07:13:36.835315Z",
     "shell.execute_reply": "2024-01-07T07:13:36.834383Z"
    },
    "papermill": {
     "duration": 0.016579,
     "end_time": "2024-01-07T07:13:36.837494",
     "exception": false,
     "start_time": "2024-01-07T07:13:36.820915",
     "status": "completed"
    },
    "tags": []
   },
   "outputs": [],
   "source": [
    "# df_brazil = pd.read_csv(\"/kaggle/input/brindo/Tweets_Brazil.csv\")"
   ]
  },
  {
   "cell_type": "code",
   "execution_count": 6,
   "id": "e43b205a",
   "metadata": {
    "execution": {
     "iopub.execute_input": "2024-01-07T07:13:36.856274Z",
     "iopub.status.busy": "2024-01-07T07:13:36.855838Z",
     "iopub.status.idle": "2024-01-07T07:13:51.281395Z",
     "shell.execute_reply": "2024-01-07T07:13:51.279951Z"
    },
    "papermill": {
     "duration": 14.438502,
     "end_time": "2024-01-07T07:13:51.284480",
     "exception": false,
     "start_time": "2024-01-07T07:13:36.845978",
     "status": "completed"
    },
    "tags": []
   },
   "outputs": [
    {
     "name": "stdout",
     "output_type": "stream",
     "text": [
      "Collecting demoji\r\n",
      "  Downloading demoji-1.1.0-py3-none-any.whl (42 kB)\r\n",
      "\u001b[2K     \u001b[90m━━━━━━━━━━━━━━━━━━━━━━━━━━━━━━━━━━━━━━━━\u001b[0m \u001b[32m42.9/42.9 kB\u001b[0m \u001b[31m3.4 MB/s\u001b[0m eta \u001b[36m0:00:00\u001b[0m\r\n",
      "\u001b[?25hInstalling collected packages: demoji\r\n",
      "Successfully installed demoji-1.1.0\r\n"
     ]
    }
   ],
   "source": [
    "!pip install demoji"
   ]
  },
  {
   "cell_type": "code",
   "execution_count": 7,
   "id": "bf1ecca0",
   "metadata": {
    "execution": {
     "iopub.execute_input": "2024-01-07T07:13:51.305448Z",
     "iopub.status.busy": "2024-01-07T07:13:51.304188Z",
     "iopub.status.idle": "2024-01-07T07:13:53.448954Z",
     "shell.execute_reply": "2024-01-07T07:13:53.447685Z"
    },
    "papermill": {
     "duration": 2.158188,
     "end_time": "2024-01-07T07:13:53.451886",
     "exception": false,
     "start_time": "2024-01-07T07:13:51.293698",
     "status": "completed"
    },
    "tags": []
   },
   "outputs": [],
   "source": [
    "import string\n",
    "import nltk\n",
    "import csv\n",
    "import re\n",
    "import demoji\n",
    "from nltk.stem.wordnet import WordNetLemmatizer"
   ]
  },
  {
   "cell_type": "code",
   "execution_count": 8,
   "id": "fedf2e83",
   "metadata": {
    "execution": {
     "iopub.execute_input": "2024-01-07T07:13:53.471866Z",
     "iopub.status.busy": "2024-01-07T07:13:53.471423Z",
     "iopub.status.idle": "2024-01-07T07:13:53.491067Z",
     "shell.execute_reply": "2024-01-07T07:13:53.489950Z"
    },
    "papermill": {
     "duration": 0.032499,
     "end_time": "2024-01-07T07:13:53.493499",
     "exception": false,
     "start_time": "2024-01-07T07:13:53.461000",
     "status": "completed"
    },
    "tags": []
   },
   "outputs": [],
   "source": [
    "class preprocess():\n",
    "    def __init__(self, df, contractions, otherContractions):\n",
    "        self.df = df\n",
    "        self.contractions = contractions\n",
    "        self.otherContractions = otherContractions\n",
    "    \n",
    "    def lower(self, tweet):\n",
    "        return tweet.lower()\n",
    "    \n",
    "    def abbreviate(self, tweet):\n",
    "        tweet = tweet.split(' ')\n",
    "        j = 0\n",
    "        for str_ in tweet:\n",
    "            fileName = '/kaggle/input/abbrevsskk/Abbreviations.txt'\n",
    "            accessMode = 'r'\n",
    "            with open(fileName, accessMode) as csvfile:\n",
    "                dataFromFile = csv.reader(csvfile, delimiter = '=')\n",
    "                str_ = re.sub('[^a-zA-Z0-9-_.]', '', str_)\n",
    "                for row in dataFromFile:\n",
    "                    if str_.upper() == row[0]:\n",
    "                        tweet[j] = row[1]\n",
    "                csvfile.close()\n",
    "            j += 1\n",
    "        return ' '.join(tweet)\n",
    "    \n",
    "    def expand(self, tweet):\n",
    "        for word in tweet.split():\n",
    "            if word in self.contractions.keys():\n",
    "                tweet = tweet.replace(word, self.contractions[word])\n",
    "            elif word in self.otherContractions.keys():\n",
    "                tweet = tweet.replace(word, self.otherContractions[word])\n",
    "        return tweet\n",
    "    \n",
    "    def emoji2text(self, tweet):\n",
    "        emojis = demoji.findall(tweet)\n",
    "        new_tweet = []\n",
    "        for word in tweet.split():\n",
    "            if word in emojis.keys():\n",
    "                tweet = tweet.replace(word, emojis[word])\n",
    "                new_tweet.append(emojis[word])\n",
    "            wordmojis = demoji.findall(word)\n",
    "            for char in word:\n",
    "                if char in wordmojis.keys():\n",
    "                    tweet = tweet.replace(word, wordmojis[char])\n",
    "        \n",
    "        return tweet\n",
    "\n",
    "    def remove_hashtags(self, tweet):\n",
    "        return re.sub(r'\\#w+', '', tweet)\n",
    "    \n",
    "    def remove_mentions(self, tweet):\n",
    "        for word in tweet.split():\n",
    "            if word[0] == '@':\n",
    "                tweet = tweet.replace(word, '')\n",
    "        return tweet\n",
    "\n",
    "    def remove_punctuations(self, tweet):\n",
    "        punct = string.punctuation\n",
    "        trantab = str.maketrans(punct, len(punct)*' ')\n",
    "        return tweet.translate(trantab)\n",
    "    \n",
    "    def preprocess_tweet(self, tweet):\n",
    "        tweet = self.lower(tweet)\n",
    "        tweet = self.abbreviate(tweet)\n",
    "        tweet = self.expand(tweet)\n",
    "        tweet = self.emoji2text(tweet)\n",
    "        tweet = self.remove_mentions(tweet)\n",
    "        tweet = self.remove_hashtags(tweet)\n",
    "        tweet = self.remove_punctuations(tweet)\n",
    "        return tweet\n"
   ]
  },
  {
   "cell_type": "code",
   "execution_count": 9,
   "id": "7bec7d93",
   "metadata": {
    "execution": {
     "iopub.execute_input": "2024-01-07T07:13:53.513102Z",
     "iopub.status.busy": "2024-01-07T07:13:53.512654Z",
     "iopub.status.idle": "2024-01-07T07:13:53.527712Z",
     "shell.execute_reply": "2024-01-07T07:13:53.526506Z"
    },
    "papermill": {
     "duration": 0.028006,
     "end_time": "2024-01-07T07:13:53.530353",
     "exception": false,
     "start_time": "2024-01-07T07:13:53.502347",
     "status": "completed"
    },
    "tags": []
   },
   "outputs": [],
   "source": [
    "contractions = { \n",
    "\"ain't\": \"am not\", \"aren't\": \"are not\", \"can't\": \"cannot\", \"can't've\": \"cannot have\", \"'cause\": \"because\", \"could've\": \"could have\", \"couldn't\": \"could not\",\n",
    "\"couldn't've\": \"could not have\", \"didn't\": \"did not\", \"doesn't\": \"does not\", \"don't\": \"do not\", \"hadn't\": \"had not\", \"hadn't've\": \"had not have\",\n",
    "\"hasn't\": \"has not\", \"haven't\": \"have not\", \"he'd\": \"he had\", \"he'd've\": \"he would have\", \"he'll\": \"he will\", \"he'll've\": \"he will have\", \"he's\": \"he is\",\n",
    "\"how'd\": \"how did\", \"how'd'y\": \"how do you\", \"how'll\": \"how will\", \"how's\": \"how is\", \"i'd\": \"i would\", \"i'd've\": \"i would have\",\n",
    "\"i'll\": \"i will\", \"i'll've\": \"i will have\", \"i'm\": \"i am\", \"i've\": \"i have\", \"isn't\": \"is not\", \"it'd\": \"it would\",\n",
    "\"it'd've\": \"it would have\", \"it'll\": \"it will\", \"it'll've\": \"it will have\", \"it's\": \"it is\", \"let's\": \"let us\",\n",
    "\"ma'am\": \"madam\", \"mayn't\": \"may not\", \"might've\": \"might have\", \"mightn't\": \"might not\", \"mightn't've\": \"might not have\", \"must've\": \"must have\", \"mustn't\": \"must not\",\n",
    "\"mustn't've\": \"must not have\", \"needn't\": \"need not\", \"needn't've\": \"need not have\", \"o'clock\": \"of the clock\", \"oughtn't\": \"ought not\", \"oughtn't've\": \"ought not have\",\n",
    "\"shan't\": \"shall not\", \"sha'n't\": \"shall not\", \"shan't've\": \"shall not have\", \"she'd\": \"she would\", \"she'd've\": \"she would have\", \"she'll\": \"she shall / she will\",\n",
    "\"she'll've\": \"she will have\", \"she's\": \"she is\", \"should've\": \"should have\", \"shouldn't\": \"should not\", \"shouldn't've\": \"should not have\",\n",
    "\"so've\": \"so have\", \"so's\": \"so is\", \"that'd\": \"that would\", \"that'd've\": \"that would have\", \"that's\": \"that is\", \"there'd\": \"there would\",\n",
    "\"there'd've\": \"there would have\", \"there's\": \"there is\", \"they'd\": \"they would\", \"they'd've\": \"they would have\", \"they'll\": \"they will\",\n",
    "\"they'll've\": \"they will have\", \"they're\": \"they are\", \"they've\": \"they have\", \"to've\": \"to have\", \"wasn't\": \"was not\", \"we'd\": \"we would\",\n",
    "\"we'd've\": \"we would have\", \"we'll\": \"we will\", \"we'll've\": \"we will have\", \"we're\": \"we are\", \"we've\": \"we have\", \"weren't\": \"were not\", \"what'll\": \"what will\",\n",
    "\"what'll've\": \"what will have\", \"what're\": \"what are\", \"what's\": \"what is\", \"what've\": \"what have\", \"when's\": \"when is\",\n",
    "\"when've\": \"when have\", \"where'd\": \"where did\", \"where's\": \"where is\", \"where've\": \"where have\", \"who'll\": \"who will\", \"who'll've\": \"who will have\",\n",
    "\"who's\": \"who is\", \"who've\": \"who have\", \"why's\": \"why is\", \"why've\": \"why have\", \"will've\": \"will have\", \"won't\": \"will not\", \"won't've\": \"will not have\",\n",
    "\"would've\": \"would have\", \"wouldn't\": \"would not\", \"wouldn't've\": \"would not have\", \"y'all\": \"you all\", \"y'all'd\": \"you all would\", \"y'all'd've\": \"you all would have\",\n",
    "\"y'all're\": \"you all are\", \"y'all've\": \"you all have\", \"you'd\": \"you would\", \"you'd've\": \"you would have\", \"you'll\": \"you will\", \"you'll've\": \"you will have\",\n",
    "\"you're\": \"you are\", \"you've\": \"you have\"\n",
    "}"
   ]
  },
  {
   "cell_type": "code",
   "execution_count": 10,
   "id": "30cd2cde",
   "metadata": {
    "execution": {
     "iopub.execute_input": "2024-01-07T07:13:53.550420Z",
     "iopub.status.busy": "2024-01-07T07:13:53.550021Z",
     "iopub.status.idle": "2024-01-07T07:13:53.565045Z",
     "shell.execute_reply": "2024-01-07T07:13:53.564152Z"
    },
    "papermill": {
     "duration": 0.027923,
     "end_time": "2024-01-07T07:13:53.567348",
     "exception": false,
     "start_time": "2024-01-07T07:13:53.539425",
     "status": "completed"
    },
    "tags": []
   },
   "outputs": [],
   "source": [
    "contractionsWithAnotherInvertedComma = { \n",
    "\"ain’t\": \"am not\", \"aren’t\": \"are not\", \"can’t\": \"cannot\", \"can’t’ve\": \"cannot have\", \"’cause\": \"because\", \"could’ve\": \"could have\", \"couldn’t\": \"could not\",\n",
    "\"couldn’t’ve\": \"could not have\", \"didn’t\": \"did not\", \"doesn’t\": \"does not\", \"don’t\": \"do not\", \"hadn’t\": \"had not\", \"hadn’t’ve\": \"had not have\",\n",
    "\"hasn’t\": \"has not\", \"haven’t\": \"have not\", \"he’d\": \"he had\", \"he’d’ve\": \"he would have\", \"he’ll\": \"he will\", \"he’ll’ve\": \"he will have\", \"he’s\": \"he is\",\n",
    "\"how’d\": \"how did\", \"how’d’y\": \"how do you\", \"how’ll\": \"how will\", \"how’s\": \"how is\", \"i’d\": \"i would\", \"i’d’ve\": \"i would have\",\n",
    "\"i’ll\": \"i will\", \"i’ll’ve\": \"i will have\", \"i’m\": \"i am\", \"i’ve\": \"i have\", \"isn’t\": \"is not\", \"it’d\": \"it would\",\n",
    "\"it’d’ve\": \"it would have\", \"it’ll\": \"it will\", \"it’ll’ve\": \"it will have\", \"it’s\": \"it is\", \"let’s\": \"let us\",\n",
    "\"ma’am\": \"madam\", \"mayn’t\": \"may not\", \"might’ve\": \"might have\", \"mightn’t\": \"might not\", \"mightn’t’ve\": \"might not have\", \"must’ve\": \"must have\", \"mustn’t\": \"must not\",\n",
    "\"mustn’t’ve\": \"must not have\", \"needn’t\": \"need not\", \"needn’t’ve\": \"need not have\", \"o’clock\": \"of the clock\", \"oughtn’t\": \"ought not\", \"oughtn’t’ve\": \"ought not have\",\n",
    "\"shan’t\": \"shall not\", \"shan’t’ve\": \"shall not have\", \"she’d\": \"she would\", \"she’d’ve\": \"she would have\", \"she’ll\": \"she will\",\n",
    "\"she’ll’ve\": \"she will have\", \"she’s\": \"she is\", \"should’ve\": \"should have\", \"shouldn’t\": \"should not\", \"shouldn’t’ve\": \"should not have\",\n",
    "\"so’ve\": \"so have\", \"so’s\": \"so is\", \"that’d\": \"that would\", \"that’d’ve\": \"that would have\", \"that’s\": \"that is\", \"there’d\": \"there would\",\n",
    "\"there’d’ve\": \"there would have\", \"there’s\": \"there is\", \"they’d\": \"they would\", \"they’d’ve\": \"they would have\", \"they’ll\": \"they will\",\n",
    "\"they’ll’ve\": \"they will have\", \"they’re\": \"they are\", \"they’ve\": \"they have\", \"to’ve\": \"to have\", \"wasn’t\": \"was not\", \"we’d\": \"we would\",\n",
    "\"we’d’ve\": \"we would have\", \"we’ll\": \"we will\", \"we’ll’ve\": \"we will have\", \"we’re\": \"we are\", \"we’ve\": \"we have\", \"weren’t\": \"were not\", \"what’ll\": \"what will\",\n",
    "\"what'll've\": \"what will have\", \"what're\": \"what are\", \"what's\": \"what is\", \"what've\": \"what have\", \"when's\": \"when is\",\n",
    "\"when’ve\": \"when have\", \"where’d\": \"where did\", \"where’s\": \"where is\", \"where’ve\": \"where have\", \"who’ll\": \"who will\", \"who’ll’ve\": \"who will have\",\n",
    "\"who’s\": \"who is\", \"who’ve\": \"who have\", \"why’s\": \"why is\", \"why’ve\": \"why have\", \"will’ve\": \"will have\", \"won’t\": \"will not\", \"won’t’ve\": \"will not have\",\n",
    "\"would’ve\": \"would have\", \"wouldn’t\": \"would not\", \"wouldn’t’ve\": \"would not have\", \"y’all\": \"you all\", \"y’all’d\": \"you all would\", \"y’all’d’ve\": \"you all would have\",\n",
    "\"y’all’re\": \"you all are\", \"y’all’ve\": \"you all have\", \"you’d\": \"you would\", \"you’d’ve\": \"you would have\", \"you’ll\": \"you will\", \"you’ll’ve\": \"you will have\",\n",
    "\"you’re\": \"you are\", \"you’ve\": \"you have\"\n",
    "}"
   ]
  },
  {
   "cell_type": "code",
   "execution_count": 11,
   "id": "c127504f",
   "metadata": {
    "execution": {
     "iopub.execute_input": "2024-01-07T07:13:53.587684Z",
     "iopub.status.busy": "2024-01-07T07:13:53.587056Z",
     "iopub.status.idle": "2024-01-07T07:13:53.596937Z",
     "shell.execute_reply": "2024-01-07T07:13:53.595993Z"
    },
    "papermill": {
     "duration": 0.023048,
     "end_time": "2024-01-07T07:13:53.599350",
     "exception": false,
     "start_time": "2024-01-07T07:13:53.576302",
     "status": "completed"
    },
    "tags": []
   },
   "outputs": [],
   "source": [
    "from tqdm import tqdm\n",
    "tqdm.pandas()"
   ]
  },
  {
   "cell_type": "code",
   "execution_count": 12,
   "id": "0f069d4e",
   "metadata": {
    "execution": {
     "iopub.execute_input": "2024-01-07T07:13:53.619092Z",
     "iopub.status.busy": "2024-01-07T07:13:53.618651Z",
     "iopub.status.idle": "2024-01-07T07:13:53.623353Z",
     "shell.execute_reply": "2024-01-07T07:13:53.622218Z"
    },
    "papermill": {
     "duration": 0.017279,
     "end_time": "2024-01-07T07:13:53.625546",
     "exception": false,
     "start_time": "2024-01-07T07:13:53.608267",
     "status": "completed"
    },
    "tags": []
   },
   "outputs": [],
   "source": [
    "# pp_class = preprocess(df_brazil, contractions, contractionsWithAnotherInvertedComma)\n",
    "# df_brazil['text'] = df_brazil['text'].progress_apply(lambda x : pp_class.preprocess_tweet(x))"
   ]
  },
  {
   "cell_type": "code",
   "execution_count": 13,
   "id": "bd757b9c",
   "metadata": {
    "execution": {
     "iopub.execute_input": "2024-01-07T07:13:53.645735Z",
     "iopub.status.busy": "2024-01-07T07:13:53.645305Z",
     "iopub.status.idle": "2024-01-07T07:13:53.678782Z",
     "shell.execute_reply": "2024-01-07T07:13:53.677699Z"
    },
    "papermill": {
     "duration": 0.047095,
     "end_time": "2024-01-07T07:13:53.681655",
     "exception": false,
     "start_time": "2024-01-07T07:13:53.634560",
     "status": "completed"
    },
    "tags": []
   },
   "outputs": [],
   "source": [
    "hinduismWords = [\n",
    "  \"Hinduism\",\n",
    "  \"Dharma\",\n",
    "  \"Karma\",\n",
    "  \"Yoga\",\n",
    "  \"Meditation\",\n",
    "  \"Mantra\",\n",
    "  \"Puja\",\n",
    "  \"Bhakti\",\n",
    "  \"Ganesha\",\n",
    "  \"Shiva\",\n",
    "  \"Vishnu\",\n",
    "  \"Krishna\",\n",
    "  \"Rama\",\n",
    "  \"Hanuman\",\n",
    "  \"Aum\",\n",
    "  \"Samsara\",\n",
    "  \"Moksha\",\n",
    "  \"Bhagavad Gita\",\n",
    "  \"Vedas\",\n",
    "  \"Upanishads\",\n",
    "  \"Sanskrit\",\n",
    "  \"Guru\",\n",
    "  \"Avatar\",\n",
    "  \"Aarti\",\n",
    "  \"Atman\",\n",
    "  \"Sutra\",\n",
    "  \"Siddhi\",\n",
    "  \"Swami\",\n",
    "  \"Tantra\",\n",
    "  \"Ahimsa\",\n",
    "  \"Jnana\",\n",
    "  \"Sannyasa\",\n",
    "  \"Murti\",\n",
    "  \"Mandala\",\n",
    "  \"Sadhana\",\n",
    "  \"Kundalini\",\n",
    "  \"Brahman\",\n",
    "  \"Arya\",\n",
    "  \"Samskara\",\n",
    "  \"Kirtan\",\n",
    "  \"Yajna\",\n",
    "  \"Kali\",\n",
    "  \"Durga\",\n",
    "  \"Lakshmi\",\n",
    "  \"Saraswati\",\n",
    "  \"Diwali\",\n",
    "  \"Holi\",\n",
    "  \"Navaratri\",\n",
    "  \"Raksha Bandhan\",\n",
    "  \"Surya\",\n",
    "  \"Chakras\",\n",
    "  \"Ashram\",\n",
    "  \"Pilgrimage\",\n",
    "  \"Namaste\",\n",
    "  \"Sadhguru\",\n",
    "  \"Om Namah Shivaya\",\n",
    "  \"Bhagwan\",\n",
    "  \"Sanatana Dharma\",\n",
    "  \"Darshan\",\n",
    "  \"Yagna\",\n",
    "  \"Prana\",\n",
    "  \"Vairagya\",\n",
    "  \"Yajnopavita\",\n",
    "  \"Purnima\",\n",
    "  \"Shankha\",\n",
    "  \"Kumbh Mela\",\n",
    "  \"Karma Yoga\",\n",
    "  \"Bhava\",\n",
    "  \"Rishis\",\n",
    "  \"Nirvana\",\n",
    "  \"Gandharva\",\n",
    "  \"Aryavarta\",\n",
    "  \"Ganga\",\n",
    "  \"Ashvattha\",\n",
    "  \"Surya Namaskar\",\n",
    "  \"Bhumi Puja\",\n",
    "  \"Deeksha\",\n",
    "  \"Yogic\",\n",
    "  \"Yatra\",\n",
    "  \"Bhajan\",\n",
    "  \"Panchakarma\",\n",
    "  \"Nadi\",\n",
    "  \"Satyam Shivam Sundaram\",\n",
    "  \"Raj Yoga\",\n",
    "  \"Sadhaka\",\n",
    "  \"Pashupati\",\n",
    "  \"Prarabdha Karma\",\n",
    "  \"Kirtana\",\n",
    "  \"Sarva Dharma Sambhava\",\n",
    "  \"Yogini\",\n",
    "  \"Atma Jnana\",\n",
    "  \"Akasha\",\n",
    "  \"Purna\",\n",
    "  \"Aham Brahmasmi\",\n",
    "  \"Gurukula\",\n",
    "  \"Shanti\",\n",
    "  \"Arogya\",\n",
    "  \"Acharya\",\n",
    "  \"Loka Samastha Sukhino Bhavantu\",\n",
    "  \"Dvaita\",\n",
    "  \"Advaita\",\n",
    "  \"Vairagi\",\n",
    "  \"Yamuna\",\n",
    "  \"Ashaucha\",\n",
    "  \"Samadhi\",\n",
    "  \"Sanyasi\",\n",
    "  \"Prasada\",\n",
    "  \"Ananda\",\n",
    "  \"Brahmacharya\",\n",
    "  \"Nyasa\",\n",
    "  \"Sadhana Chatushtaya\",\n",
    "  \"Swadharma\",\n",
    "  \"Pinda\",\n",
    "  \"Annapurna\",\n",
    "  \"Pandit\",\n",
    "  \"Klesha\",\n",
    "  \"Vairagin\",\n",
    "  \"Samsaric\",\n",
    "  \"Gyan Mudra\",\n",
    "  \"Bhava Samadhi\",\n",
    "  \"Upanayana\",\n",
    "  \"Antahkarana\",\n",
    "  \"Yogasana\",\n",
    "  \"Uttarayana\",\n",
    "  \"Aparigraha\",\n",
    "  \"Turiya\",\n",
    "  \"Sahaja\",\n",
    "  \"Dvija\",\n",
    "  \"Dvadashi\",\n",
    "  \"Yogi\",\n",
    "  \"Diksha\",\n",
    "  \"Sankalpa\",\n",
    "  \"Kriya\",\n",
    "  \"Achintya\",\n",
    "  \"Bhagavata\",\n",
    "  \"Jivanmukta\",\n",
    "  \"Vipassana\",\n",
    "  \"Paramatman\",\n",
    "  \"Siddhartha\",\n",
    "  \"Yagya\",\n",
    "  \"Chitta\",\n",
    "  \"Koshas\",\n",
    "  \"Yuga\",\n",
    "  \"Murti Puja\",\n",
    "  \"Vairagya\",\n",
    "  \"Tattva\",\n",
    "  \"Agni\",\n",
    "  \"Japamala\",\n",
    "  \"Sarvam Khalvidam Brahma\",\n",
    "  \"Vaishnavism\",\n",
    "  \"Shaivism\",\n",
    "  \"Shaktism\",\n",
    "  \"Nirvikalpa\",\n",
    "  \"Advaita Vedanta\",\n",
    "  \"Trimurti\",\n",
    "  \"Vairagya\",\n",
    "  \"Tapas\",\n",
    "  \"Yajur Veda\",\n",
    "  \"Sama Veda\",\n",
    "  \"Rig Veda\",\n",
    "  \"Atharva Veda\",\n",
    "  \"Surya Namaskar\",\n",
    "  \"Arati\",\n",
    "  \"Guru Purnima\",\n",
    "  \"Yogic\",\n",
    "  \"Namaskar\",\n",
    "  \"Nirguna\",\n",
    "  \"Sadhana\",\n",
    "  \"Nishkama Karma\",\n",
    "  \"Yogasana\",\n",
    "  \"Kirtan\",\n",
    "  \"Asana\",\n",
    "  \"Akshaya Tritiya\",\n",
    "  \"Pranayama\",\n",
    "  \"Mandir\",\n",
    "  \"Brahmaloka\",\n",
    "  \"Sarva Dharma Sambhava\",\n",
    "  \"Ardhanarishwara\",\n",
    "  \"Ghar Wapsi\",\n",
    "  \"Maharshi\",\n",
    "  \"Atmanjnan\",\n",
    "  \"Vichara\",\n",
    "  \"Japam\",\n",
    "  \"Bhikshu\",\n",
    "  \"Upavasa\",\n",
    "  \"Mouna\",\n",
    "  \"Jnani\",\n",
    "  \"Jnana Yoga\",\n",
    "  \"Tapasya\",\n",
    "  \"Bhava Samadhi\",\n",
    "  \"Jagadguru\",\n",
    "  \"Jivanmukta\",\n",
    "  \"Kirtan\",\n",
    "  \"Nigraha\",\n",
    "  \"Swadharma\",\n",
    "  \"Nirguna\",\n",
    "  \"Akshaya Tritiya\",\n",
    "  \"Bhagavata\",\n",
    "  \"Paramahansa\",\n",
    "  \"Vivekananda\",\n",
    "  \"Yagya\",\n",
    "  \"Chidananda\",\n",
    "  \"Tattva\",\n",
    "  \"Aratrika\",\n",
    "  \"Abhisheka\",\n",
    "  \"Kailasa\",\n",
    "  \"Bhava\",\n",
    "  \"Nitya Karma\",\n",
    "  \"Sannyasi\",\n",
    "  \"Brahmachari\",\n",
    "  \"Vairagi\",\n",
    "  \"Kumbh Mela\",\n",
    "  \"Siddha\",\n",
    "  \"Yajna\",\n",
    "  \"Vrat\",\n",
    "  \"Nyasa\",\n",
    "  \"Namarupa\",\n",
    "  \"Homa\",\n",
    "  \"Prasada\",\n",
    "  \"Yajnopavita\",\n",
    "  \"Rishi\",\n",
    "  \"Jiva\",\n",
    "  \"Lila\",\n",
    "  \"Sat-Chit-Ananda\",\n",
    "  \"Jnana Mudra\",\n",
    "  \"Sankalpa\",\n",
    "  \"Akasha\",\n",
    "  \"Chinmaya\",\n",
    "  \"Purna\",\n",
    "  \"Akhand\",\n",
    "  \"Aham Brahmasmi\",\n",
    "  \"Nirvikalpa Samadhi\",\n",
    "  \"Gurukula\",\n",
    "  \"Shanti\",\n",
    "  \"Arogya\",\n",
    "  \"Acharya\",\n",
    "  \"Jnana Vijnana\",\n",
    "  \"Yajur Veda\",\n",
    "  \"Sama Veda\",\n",
    "  \"Rig Veda\",\n",
    "  \"Atharva Veda\",\n",
    "  \"Soma\",\n",
    "  \"Ashtavakra\",\n",
    "  \"Guru Nanak\",\n",
    "  \"Radha Krishna\",\n",
    "  \"Kundalini Yoga\",\n",
    "  \"Vedanta\",\n",
    "  \"Prana\",\n",
    "  \"Gurukul\",\n",
    "  \"Yugadharma\",\n",
    "  \"Advaita\",\n",
    "  \"Dhyana\",\n",
    "  \"Mahatma\",\n",
    "  \"Ardhanareshwara\",\n",
    "  \"Saraswathi\",\n",
    "  \"Surya Namaskara\",\n",
    "  \"Chaitanya\",\n",
    "  \"Lalita\",\n",
    "  \"Ishwara\",\n",
    "  \"Vijnana\",\n",
    "  \"Achintya\",\n",
    "  \"Bhagavatam\",\n",
    "  \"Sankirtan\",\n",
    "  \"Arya Samaj\",\n",
    "  \"Tulsidas\",\n",
    "  \"Nanak\",\n",
    "  \"Sankhya\",\n",
    "  \"Ashtanga Yoga\",\n",
    "  \"Pashupata\",\n",
    "  \"Lingam\",\n",
    "  \"Tirtha\",\n",
    "  \"Kshatriya\",\n",
    "  \"Dvapara Yuga\",\n",
    "  \"Gopala\",\n",
    "  \"Ashtanga\",\n",
    "  \"Jnana Vairagya\",\n",
    "  \"Narayana\",\n",
    "  \"Shabda\",\n",
    "  \"Bhagwan\",\n",
    "  \"Jnana Mudra\",\n",
    "  \"Pinda\",\n",
    "  \"Adi Shankaracharya\",\n",
    "  \"Yagya\",\n",
    "  \"Jagannath\",\n",
    "  \"Sarva Dharma Sambhava\",\n",
    "  \"Ganesha Chaturthi\",\n",
    "  \"Rishikesh\",\n",
    "  \"Narayana\",\n",
    "  \"Giridhari\",\n",
    "  \"Shyam\",\n",
    "  \"Bhava Samadhi\",\n",
    "  \"Aum Namah Shivaya\",\n",
    "  \"Atma Jnana\",\n",
    "  \"Swamiji\",\n",
    "  \"Chakra\",\n",
    "  \"Sarvam Khalvidam Brahma\",\n",
    "  \"Rigveda\",\n",
    "  \"Upasana\",\n",
    "  \"Sant Kabir\",\n",
    "  \"Aryavarta\",\n",
    "  \"Varnashrama\",\n",
    "  \"Ganga Aarti\",\n",
    "  \"Ganesh Chaturthi\",\n",
    "  \"Lingam\",\n",
    "  \"Yajnopavita\",\n",
    "  \"Rudra\",\n",
    "  \"Linga\",\n",
    "  \"Siddhi\",\n",
    "  \"Kundalini\",\n",
    "  \"Siddhi\",\n",
    "  \"Ananda\",\n",
    "  \"Giridhari\",\n",
    "  \"Bhagwad Gita\",\n",
    "  \"Bhagavan\",\n",
    "  \"Bhagawan\",\n",
    "  \"Katha\",\n",
    "  \"Svadhyaya\",\n",
    "  \"Gita\",\n",
    "  \"Satchitananda\",\n",
    "  \"Ardhanarishvara\",\n",
    "  \"Sarvam Khalvidam Brahma\",\n",
    "  \"Hare Krishna\",\n",
    "  \"Ashtavakra\",\n",
    "  \"Sankirtan\",\n",
    "  \"Vijnana\",\n",
    "  \"Vedanta\",\n",
    "  \"Soma\",\n",
    "  \"Vashishta\",\n",
    "  \"Bharat\",\n",
    "  \"Bharata\",\n",
    "  \"Arya\",\n",
    "  \"Guru Nanak\",\n",
    "  \"Radha Krishna\",\n",
    "  \"Kundalini Yoga\",\n",
    "  \"Vedanta\",\n",
    "  \"Gurukul\",\n",
    "  \"Yugadharma\",\n",
    "  \"Advaita\",\n",
    "  \"Dhyana\",\n",
    "  \"Mahatma\",\n",
    "  \"Ardhanareshwara\",\n",
    "  \"Saraswathi\",\n",
    "  \"Surya Namaskara\",\n",
    "  \"Chaitanya\",\n",
    "  \"Lalita\",\n",
    "  \"Ishwara\",\n",
    "  \"Vijnana\",\n",
    "  \"Achintya\",\n",
    "  \"Bhagavatam\",\n",
    "  \"Sankirtan\",\n",
    "  \"Arya Samaj\",\n",
    "  \"Tulsidas\",\n",
    "  \"Nanak\",\n",
    "  \"Sankhya\",\n",
    "  \"Ashtanga Yoga\",\n",
    "  \"Pashupata\",\n",
    "  \"Lingam\",\n",
    "  \"Tirtha\",\n",
    "  \"Kshatriya\",\n",
    "  \"Dvapara Yuga\",\n",
    "  \"Gopala\",\n",
    "  \"Ashtanga\",\n",
    "  \"Jnana Vairagya\",\n",
    "  \"Narayana\",\n",
    "  \"Shabda\",\n",
    "  \"Bhagwan\",\n",
    "  \"Jnana Mudra\",\n",
    "  \"Pinda\",\n",
    "  \"Adi Shankaracharya\",\n",
    "  \"Yagya\",\n",
    "  \"Jagannath\",\n",
    "  \"Sarva Dharma Sambhava\",\n",
    "  \"Ganesha Chaturthi\",\n",
    "  \"Rishikesh\",\n",
    "  \"Narayana\",\n",
    "  \"Giridhari\",\n",
    "  \"Shyam\",\n",
    "  \"Bhava Samadhi\",\n",
    "  \"Aum Namah Shivaya\",\n",
    "  \"Atma Jnana\",\n",
    "  \"Swamiji\",\n",
    "  \"Chakra\",\n",
    "  \"Sarvam Khalvidam Brahma\",\n",
    "  \"Rigveda\",\n",
    "  \"Upasana\",\n",
    "  \"Sant Kabir\",\n",
    "  \"Aryavarta\",\n",
    "  \"Varnashrama\",\n",
    "  \"Ganga Aarti\",\n",
    "  \"Ganesh Chaturthi\",\n",
    "  \"Lingam\",\n",
    "  \"Yajnopavita\",\n",
    "  \"Rudra\",\n",
    "  \"Linga\",\n",
    "  \"Siddhi\",\n",
    "  \"Kundalini\",\n",
    "  \"Siddhi\",\n",
    "  \"Ananda\",\n",
    "  \"Giridhari\",\n",
    "  \"Bhagwad Gita\",\n",
    "  \"Bhagavan\",\n",
    "  \"Bhagawan\",\n",
    "  \"Katha\",\n",
    "  \"Svadhyaya\",\n",
    "  \"Gita\",\n",
    "  \"Satchitananda\",\n",
    "  \"Ardhanarishvara\",\n",
    "  \"Sarvam Khalvidam Brahma\",\n",
    "  \"Hare Krishna\",\n",
    "  \"Ashtavakra\",\n",
    "  \"Sankirtan\",\n",
    "  \"Vijnana\",\n",
    "  \"Vedanta\",\n",
    "  \"Soma\",\n",
    "  \"Vashishta\",\n",
    "  \"Bharat\",\n",
    "  \"Bharata\",\n",
    "  \"Arya\",\n",
    "  \"Guru Nanak\",\n",
    "  \"Radha Krishna\",\n",
    "  \"Kundalini Yoga\",\n",
    "  \"Vedanta\",\n",
    "  \"Gurukul\",\n",
    "  \"Yugadharma\",\n",
    "  \"Advaita\",\n",
    "  \"Dhyana\",\n",
    "  \"Mahatma\",\n",
    "  \"Ardhanareshwara\",\n",
    "  \"Saraswathi\",\n",
    "  \"Surya Namaskara\",\n",
    "  \"Chaitanya\",\n",
    "  \"Lalita\",\n",
    "  \"Ishwara\",\n",
    "  \"Vijnana\",\n",
    "  \"Achintya\",\n",
    "  \"Bhagavatam\",\n",
    "  \"Sankirtan\",\n",
    "  \"Arya Samaj\",\n",
    "  \"Tulsidas\",\n",
    "  \"Nanak\",\n",
    "  \"Sankhya\",\n",
    "  \"Ashtanga Yoga\",\n",
    "  \"Pashupata\",\n",
    "  \"Lingam\",\n",
    "  \"Tirtha\",\n",
    "  'Hinduphobia', 'Brahmanism', 'Bhakt', 'Cow piss drinker', 'Cow worshipper', 'Devil worshipper',\n",
    "                 'Dothead',\n",
    "                 'Dung worshipper',\n",
    "                 'Dual loyalty',\n",
    "                 'Exotic',\n",
    "                 'Hindu fatalism',\n",
    "                 'Heathen',\n",
    "                 'Heritage Learner',\n",
    "                 'Hindutvavadi',\n",
    "                 'Idol Worshipper',\n",
    "                 'Infidel', 'Kaffir', 'Malaun',\n",
    "                 'Model Minority', 'Savarna', 'Unreached', 'Pajeet', 'Kshatriyas', 'Vaishyas', 'Sudras', 'Shaivism',\n",
    "                 'Shaktism', 'Smartism', 'Shiva','diwali covid', 'navaratri', 'ram navami', 'ganesh chaturthi',\n",
    "    'temple closures', 'online puja', 'virtual darshan', 'social distancing temples',\n",
    "    'kumbh mela', 'religious events', 'pilgrimage restrictions', 'rituals lockdown',\n",
    "    'prayers covid', 'virtual satsangs', 'hindu leaders covid', 'spiritual guidance',\n",
    "    'mythological lessons', 'symbolism pandemic', 'resilience stories', 'hindu relief efforts',\n",
    "    'seva pandemic', 'community support', 'karma pandemic', 'dharma challenges', 'reflections life death',\n",
    "    'yoga lockdown', 'ayurveda immunity', 'wellness hindu philosophy', 'hindu diaspora covid',\n",
    "    'cultural impact', 'contributions relief' ]\n"
   ]
  },
  {
   "cell_type": "code",
   "execution_count": 14,
   "id": "b24b8724",
   "metadata": {
    "execution": {
     "iopub.execute_input": "2024-01-07T07:13:53.701632Z",
     "iopub.status.busy": "2024-01-07T07:13:53.700969Z",
     "iopub.status.idle": "2024-01-07T07:13:53.706159Z",
     "shell.execute_reply": "2024-01-07T07:13:53.705211Z"
    },
    "papermill": {
     "duration": 0.017998,
     "end_time": "2024-01-07T07:13:53.708743",
     "exception": false,
     "start_time": "2024-01-07T07:13:53.690745",
     "status": "completed"
    },
    "tags": []
   },
   "outputs": [],
   "source": [
    "def exactMatch(txt,hinduTweets):\n",
    "  for w in hinduismWords:\n",
    "    f = 0\n",
    "    if w .lower() in txt:\n",
    "      hinduTweets.append(txt)\n",
    "      f = 1\n",
    "      return True\n",
    "  return False\n"
   ]
  },
  {
   "cell_type": "code",
   "execution_count": 15,
   "id": "e1283552",
   "metadata": {
    "execution": {
     "iopub.execute_input": "2024-01-07T07:13:53.728536Z",
     "iopub.status.busy": "2024-01-07T07:13:53.728122Z",
     "iopub.status.idle": "2024-01-07T07:14:03.062008Z",
     "shell.execute_reply": "2024-01-07T07:14:03.060654Z"
    },
    "papermill": {
     "duration": 9.347576,
     "end_time": "2024-01-07T07:14:03.065252",
     "exception": false,
     "start_time": "2024-01-07T07:13:53.717676",
     "status": "completed"
    },
    "tags": []
   },
   "outputs": [
    {
     "name": "stdout",
     "output_type": "stream",
     "text": [
      "Downloading...\r\n",
      "From (uriginal): https://drive.google.com/uc?id=1V8Q8Ody0KRk6H_38AVAL-EdYSEfhuIQV\r\n",
      "From (redirected): https://drive.google.com/uc?id=1V8Q8Ody0KRk6H_38AVAL-EdYSEfhuIQV&confirm=t&uuid=59cb76c7-9a9a-4f2e-ade8-e0c22ed2e19c\r\n",
      "To: /kaggle/working/Tweets_Australia.csv\r\n",
      "100%|█████████████████████████████████████████| 737M/737M [00:06<00:00, 109MB/s]\r\n"
     ]
    }
   ],
   "source": [
    "!gdown 1V8Q8Ody0KRk6H_38AVAL-EdYSEfhuIQV"
   ]
  },
  {
   "cell_type": "code",
   "execution_count": 16,
   "id": "63dab79e",
   "metadata": {
    "execution": {
     "iopub.execute_input": "2024-01-07T07:14:03.092989Z",
     "iopub.status.busy": "2024-01-07T07:14:03.092465Z",
     "iopub.status.idle": "2024-01-07T07:14:19.897468Z",
     "shell.execute_reply": "2024-01-07T07:14:19.896412Z"
    },
    "papermill": {
     "duration": 16.822027,
     "end_time": "2024-01-07T07:14:19.900124",
     "exception": false,
     "start_time": "2024-01-07T07:14:03.078097",
     "status": "completed"
    },
    "tags": []
   },
   "outputs": [
    {
     "name": "stderr",
     "output_type": "stream",
     "text": [
      "/tmp/ipykernel_19/2486228573.py:1: DtypeWarning: Columns (0,1,2) have mixed types. Specify dtype option on import or set low_memory=False.\n",
      "  df_aus = pd.read_csv(\"/kaggle/working/Tweets_Australia.csv\",index_col=0)\n"
     ]
    }
   ],
   "source": [
    "df_aus = pd.read_csv(\"/kaggle/working/Tweets_Australia.csv\",index_col=0)"
   ]
  },
  {
   "cell_type": "code",
   "execution_count": 17,
   "id": "7909c6a3",
   "metadata": {
    "execution": {
     "iopub.execute_input": "2024-01-07T07:14:19.928970Z",
     "iopub.status.busy": "2024-01-07T07:14:19.928443Z",
     "iopub.status.idle": "2024-01-07T07:14:19.947996Z",
     "shell.execute_reply": "2024-01-07T07:14:19.947123Z"
    },
    "papermill": {
     "duration": 0.037408,
     "end_time": "2024-01-07T07:14:19.950662",
     "exception": false,
     "start_time": "2024-01-07T07:14:19.913254",
     "status": "completed"
    },
    "tags": []
   },
   "outputs": [
    {
     "data": {
      "text/html": [
       "<div>\n",
       "<style scoped>\n",
       "    .dataframe tbody tr th:only-of-type {\n",
       "        vertical-align: middle;\n",
       "    }\n",
       "\n",
       "    .dataframe tbody tr th {\n",
       "        vertical-align: top;\n",
       "    }\n",
       "\n",
       "    .dataframe thead th {\n",
       "        text-align: right;\n",
       "    }\n",
       "</style>\n",
       "<table border=\"1\" class=\"dataframe\">\n",
       "  <thead>\n",
       "    <tr style=\"text-align: right;\">\n",
       "      <th></th>\n",
       "      <th>created_at</th>\n",
       "      <th>id</th>\n",
       "      <th>text</th>\n",
       "      <th>user_location</th>\n",
       "    </tr>\n",
       "  </thead>\n",
       "  <tbody>\n",
       "    <tr>\n",
       "      <th>11</th>\n",
       "      <td>Wed Dec 08 04:25:46 +0000 2021</td>\n",
       "      <td>1468436616263909376.0</td>\n",
       "      <td>RT @AaronSiriSG: Litigation update:  \\n\\nFDA d...</td>\n",
       "      <td>Iasi, Romania</td>\n",
       "    </tr>\n",
       "    <tr>\n",
       "      <th>229</th>\n",
       "      <td>Wed Dec 08 04:25:57 +0000 2021</td>\n",
       "      <td>1468436661633630208.0</td>\n",
       "      <td>RT @covidbaseau: The TGA has approved the Mode...</td>\n",
       "      <td>Canberra</td>\n",
       "    </tr>\n",
       "    <tr>\n",
       "      <th>236</th>\n",
       "      <td>Wed Dec 08 04:26:06 +0000 2021</td>\n",
       "      <td>1468436701043314688.0</td>\n",
       "      <td>RT @SimoLove: Federal Health Minister Greg Hun...</td>\n",
       "      <td>Wurundjeri Richmond, Melbourne</td>\n",
       "    </tr>\n",
       "    <tr>\n",
       "      <th>250</th>\n",
       "      <td>Wed Dec 08 04:26:07 +0000 2021</td>\n",
       "      <td>1468436704755286016.0</td>\n",
       "      <td>@twityouse Are these the deniers that are wear...</td>\n",
       "      <td>Victoria, Australia</td>\n",
       "    </tr>\n",
       "    <tr>\n",
       "      <th>257</th>\n",
       "      <td>Wed Dec 08 04:26:07 +0000 2021</td>\n",
       "      <td>1468436706424545280.0</td>\n",
       "      <td>RT @drsimonegold: WOW: a preprint study for Th...</td>\n",
       "      <td>Perth WA</td>\n",
       "    </tr>\n",
       "  </tbody>\n",
       "</table>\n",
       "</div>"
      ],
      "text/plain": [
       "                         created_at                     id  \\\n",
       "11   Wed Dec 08 04:25:46 +0000 2021  1468436616263909376.0   \n",
       "229  Wed Dec 08 04:25:57 +0000 2021  1468436661633630208.0   \n",
       "236  Wed Dec 08 04:26:06 +0000 2021  1468436701043314688.0   \n",
       "250  Wed Dec 08 04:26:07 +0000 2021  1468436704755286016.0   \n",
       "257  Wed Dec 08 04:26:07 +0000 2021  1468436706424545280.0   \n",
       "\n",
       "                                                  text  \\\n",
       "11   RT @AaronSiriSG: Litigation update:  \\n\\nFDA d...   \n",
       "229  RT @covidbaseau: The TGA has approved the Mode...   \n",
       "236  RT @SimoLove: Federal Health Minister Greg Hun...   \n",
       "250  @twityouse Are these the deniers that are wear...   \n",
       "257  RT @drsimonegold: WOW: a preprint study for Th...   \n",
       "\n",
       "                      user_location  \n",
       "11                    Iasi, Romania  \n",
       "229                        Canberra  \n",
       "236  Wurundjeri Richmond, Melbourne  \n",
       "250             Victoria, Australia  \n",
       "257                        Perth WA  "
      ]
     },
     "execution_count": 17,
     "metadata": {},
     "output_type": "execute_result"
    }
   ],
   "source": [
    "df_aus.head()"
   ]
  },
  {
   "cell_type": "code",
   "execution_count": 18,
   "id": "7af6c223",
   "metadata": {
    "execution": {
     "iopub.execute_input": "2024-01-07T07:14:19.980024Z",
     "iopub.status.busy": "2024-01-07T07:14:19.979541Z",
     "iopub.status.idle": "2024-01-07T07:14:19.987712Z",
     "shell.execute_reply": "2024-01-07T07:14:19.986489Z"
    },
    "papermill": {
     "duration": 0.02635,
     "end_time": "2024-01-07T07:14:19.990335",
     "exception": false,
     "start_time": "2024-01-07T07:14:19.963985",
     "status": "completed"
    },
    "tags": []
   },
   "outputs": [],
   "source": [
    "def prepro(df):\n",
    "    global preprocess\n",
    "    global contractions\n",
    "    global contractionsWithAnotherInvertedComma\n",
    "    #index_col = 0\n",
    "    df.reset_index(inplace = True)\n",
    "    df.dropna(subset = [\"text\"], inplace = True)\n",
    "    df.drop_duplicates(subset = [\"text\"], inplace = True)\n",
    "    pp_class = preprocess(df, contractions, contractionsWithAnotherInvertedComma)\n",
    "    df['text'] = df['text'].progress_apply(lambda x : pp_class.preprocess_tweet(x))\n",
    "    return df\n",
    "    \n",
    "    "
   ]
  },
  {
   "cell_type": "code",
   "execution_count": 19,
   "id": "3dcbb29b",
   "metadata": {
    "execution": {
     "iopub.execute_input": "2024-01-07T07:14:20.018632Z",
     "iopub.status.busy": "2024-01-07T07:14:20.018199Z",
     "iopub.status.idle": "2024-01-07T15:04:48.516831Z",
     "shell.execute_reply": "2024-01-07T15:04:48.515740Z"
    },
    "papermill": {
     "duration": 28228.516055,
     "end_time": "2024-01-07T15:04:48.519576",
     "exception": false,
     "start_time": "2024-01-07T07:14:20.003521",
     "status": "completed"
    },
    "tags": []
   },
   "outputs": [
    {
     "name": "stderr",
     "output_type": "stream",
     "text": [
      "100%|██████████| 1630821/1630821 [7:50:25<00:00, 57.78it/s]\n"
     ]
    }
   ],
   "source": [
    "df_aus = prepro(df_aus)"
   ]
  },
  {
   "cell_type": "code",
   "execution_count": 20,
   "id": "320d3906",
   "metadata": {
    "execution": {
     "iopub.execute_input": "2024-01-07T15:05:34.053631Z",
     "iopub.status.busy": "2024-01-07T15:05:34.053196Z",
     "iopub.status.idle": "2024-01-07T15:05:59.763460Z",
     "shell.execute_reply": "2024-01-07T15:05:59.762296Z"
    },
    "papermill": {
     "duration": 48.559219,
     "end_time": "2024-01-07T15:05:59.766479",
     "exception": false,
     "start_time": "2024-01-07T15:05:11.207260",
     "status": "completed"
    },
    "tags": []
   },
   "outputs": [],
   "source": [
    "df_aus.to_csv(\"preproAus.csv\")"
   ]
  }
 ],
 "metadata": {
  "kaggle": {
   "accelerator": "none",
   "dataSources": [
    {
     "datasetId": 4250336,
     "sourceId": 7323498,
     "sourceType": "datasetVersion"
    },
    {
     "datasetId": 4250534,
     "sourceId": 7323773,
     "sourceType": "datasetVersion"
    }
   ],
   "dockerImageVersionId": 30626,
   "isGpuEnabled": false,
   "isInternetEnabled": true,
   "language": "python",
   "sourceType": "notebook"
  },
  "kernelspec": {
   "display_name": "Python 3",
   "language": "python",
   "name": "python3"
  },
  "language_info": {
   "codemirror_mode": {
    "name": "ipython",
    "version": 3
   },
   "file_extension": ".py",
   "mimetype": "text/x-python",
   "name": "python",
   "nbconvert_exporter": "python",
   "pygments_lexer": "ipython3",
   "version": "3.10.12"
  },
  "papermill": {
   "default_parameters": {},
   "duration": 28387.570938,
   "end_time": "2024-01-07T15:06:24.711471",
   "environment_variables": {},
   "exception": null,
   "input_path": "__notebook__.ipynb",
   "output_path": "__notebook__.ipynb",
   "parameters": {},
   "start_time": "2024-01-07T07:13:17.140533",
   "version": "2.4.0"
  }
 },
 "nbformat": 4,
 "nbformat_minor": 5
}
